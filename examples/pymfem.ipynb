{
 "cells": [
  {
   "cell_type": "code",
   "execution_count": null,
   "metadata": {},
   "outputs": [],
   "source": [
    "# Requires PyMFEM, see https://github.com/mfem/PyMFEM\n",
    "import mfem.ser as mfem\n",
    "import matplotlib.pyplot as plt\n",
    "import matplotlib.tri as tri\n",
    "from glvis import GLVisWidget, to_stream"
   ]
  },
  {
   "cell_type": "markdown",
   "metadata": {},
   "source": [
    "### Setup and Solve a Simple Problem with MFEM\n",
    "\n",
    "Compare with MFEM's [Example 1](https://github.com/mfem/mfem/blob/master/examples/ex1.cpp)"
   ]
  },
  {
   "cell_type": "code",
   "execution_count": null,
   "metadata": {},
   "outputs": [],
   "source": [
    "# Load the mesh from a local file\n",
    "# meshfile = '../../mfem/data/star.mesh'\n",
    "# mesh = mfem.Mesh(meshfile)\n",
    "\n",
    "# Alternatively, create a simple square mesh and refine it\n",
    "mesh = mfem.Mesh(5, 5, \"TRIANGLE\")\n",
    "mesh.UniformRefinement()\n",
    "\n",
    "# Create H1 finite element function space\n",
    "fec = mfem.H1_FECollection(2, mesh.Dimension()) # order=2\n",
    "fespace = mfem.FiniteElementSpace(mesh, fec)      \n",
    "\n",
    "# Determine essential degrees of freedom (the whole boundary here)\n",
    "ess_tdof_list = mfem.intArray()\n",
    "ess_bdr = mfem.intArray([1]*mesh.bdr_attributes.Size())\n",
    "fespace.GetEssentialTrueDofs(ess_bdr, ess_tdof_list)\n",
    "\n",
    "# Define Bilinear and Linear forms for the Laplace problem -Δu=1\n",
    "one = mfem.ConstantCoefficient(1.0)\n",
    "a = mfem.BilinearForm(fespace)\n",
    "a.AddDomainIntegrator(mfem.DiffusionIntegrator(one))\n",
    "a.Assemble()\n",
    "b = mfem.LinearForm(fespace)\n",
    "b.AddDomainIntegrator(mfem.DomainLFIntegrator(one))\n",
    "b.Assemble()\n",
    "\n",
    "# Create a grid function for the solution and initialize with 0\n",
    "x = mfem.GridFunction(fespace);\n",
    "x.Assign(0.0)\n",
    "\n",
    "# Form the linear system, AX=B, for the FEM discretization\n",
    "A = mfem.OperatorPtr()\n",
    "B = mfem.Vector()\n",
    "X = mfem.Vector()\n",
    "a.FormLinearSystem(ess_tdof_list, x, b, A, X, B);\n",
    "print(\"Size of the linear system: \" + str(A.Height()))\n",
    "\n",
    "# Solve the system using PCG solver and get the solution in x\n",
    "Asm = mfem.OperatorHandle2SparseMatrix(A)\n",
    "Msm = mfem.GSSmoother(Asm)\n",
    "mfem.PCG(Asm, Msm, B, X, 1, 200, 1e-12, 0.0)\n",
    "a.RecoverFEMSolution(X, b, x)"
   ]
  },
  {
   "cell_type": "markdown",
   "metadata": {},
   "source": [
    "### Plot the Solution with GLVis"
   ]
  },
  {
   "cell_type": "code",
   "execution_count": null,
   "metadata": {},
   "outputs": [],
   "source": [
    "# Plot the mesh + solution (all GLVis keys and mouse commands work)\n",
    "GLVisWidget((mesh, x), 400, 400)"
   ]
  },
  {
   "cell_type": "code",
   "execution_count": null,
   "metadata": {},
   "outputs": [],
   "source": [
    "# Plot the mesh only\n",
    "GLVisWidget(mesh)"
   ]
  },
  {
   "cell_type": "code",
   "execution_count": null,
   "metadata": {},
   "outputs": [],
   "source": [
    "# Visualization with additional GLVis keys\n",
    "g = GLVisWidget(to_stream(mesh,x) + 'keys ARjlmcbp*******')\n",
    "g.set_size(600, 400)\n",
    "g"
   ]
  }
 ],
 "metadata": {
  "kernelspec": {
   "display_name": "Python 3",
   "language": "python",
   "name": "python3"
  },
  "language_info": {
   "codemirror_mode": {
    "name": "ipython",
    "version": 3
   },
   "file_extension": ".py",
   "mimetype": "text/x-python",
   "name": "python",
   "nbconvert_exporter": "python",
   "pygments_lexer": "ipython3",
   "version": "3.9.1"
  }
 },
 "nbformat": 4,
 "nbformat_minor": 4
}
