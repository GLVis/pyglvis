{
 "cells": [
  {
   "cell_type": "code",
   "execution_count": 13,
   "metadata": {},
   "outputs": [],
   "source": [
    "from pyglvis import GlvisWidget"
   ]
  },
  {
   "cell_type": "code",
   "execution_count": 14,
   "metadata": {},
   "outputs": [],
   "source": [
    "stream = \"\"\"fem2d_gf_data\n",
    "\n",
    "MFEM mesh v1.0\n",
    "\n",
    "dimension\n",
    "2\n",
    "\n",
    "elements\n",
    "1\n",
    "1 3 0 1 2 3\n",
    "\n",
    "boundary\n",
    "4\n",
    "1 1 1 0\n",
    "1 1 2 1\n",
    "1 1 3 2\n",
    "1 1 0 3\n",
    "\n",
    "vertices\n",
    "4\n",
    "\n",
    "nodes\n",
    "FiniteElementSpace\n",
    "FiniteElementCollection: Quadratic\n",
    "VDim: 2\n",
    "Ordering: 0\n",
    "\n",
    "0\n",
    "1\n",
    "1\n",
    "0.1\n",
    "0.5\n",
    "0.9\n",
    "0.5\n",
    "0\n",
    "0.45\n",
    "0\n",
    "0\n",
    "1\n",
    "0.9\n",
    "-0.05\n",
    "0.5\n",
    "1\n",
    "0.5\n",
    "0.55\n",
    "\n",
    "FiniteElementSpace\n",
    "FiniteElementCollection: Quadratic\n",
    "VDim: 1\n",
    "Ordering: 0\n",
    "\n",
    "0\n",
    "0\n",
    "0\n",
    "0\n",
    "0\n",
    "0\n",
    "0\n",
    "0\n",
    "1\"\"\""
   ]
  },
  {
   "cell_type": "code",
   "execution_count": 15,
   "metadata": {},
   "outputs": [
    {
     "data": {
      "application/vnd.jupyter.widget-view+json": {
       "model_id": "cc7220125f6c424e84c8d1be2c30ea52",
       "version_major": 2,
       "version_minor": 0
      },
      "text/plain": [
       "GlvisWidget()"
      ]
     },
     "metadata": {},
     "output_type": "display_data"
    }
   ],
   "source": [
    "GlvisWidget(stream)"
   ]
  },
  {
   "cell_type": "code",
   "execution_count": null,
   "metadata": {},
   "outputs": [],
   "source": []
  }
 ],
 "metadata": {
  "kernelspec": {
   "display_name": "Python 3",
   "language": "python",
   "name": "python3"
  },
  "language_info": {
   "codemirror_mode": {
    "name": "ipython",
    "version": 3
   },
   "file_extension": ".py",
   "mimetype": "text/x-python",
   "name": "python",
   "nbconvert_exporter": "python",
   "pygments_lexer": "ipython3",
   "version": "3.7.3"
  }
 },
 "nbformat": 4,
 "nbformat_minor": 4
}
